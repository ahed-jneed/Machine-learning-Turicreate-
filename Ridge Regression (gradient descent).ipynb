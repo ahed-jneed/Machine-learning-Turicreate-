{
 "cells": [
  {
   "cell_type": "markdown",
   "metadata": {},
   "source": [
    "# Regression Week 4: Ridge Regression (gradient descent)"
   ]
  },
  {
   "cell_type": "markdown",
   "metadata": {},
   "source": [
    "In this notebook, you will implement ridge regression via gradient descent. You will:\n",
    "* Convert an SFrame into a Numpy array\n",
    "* Write a Numpy function to compute the derivative of the regression weights with respect to a single feature\n",
    "* Write gradient descent function to compute the regression weights given an initial weight vector, step size, tolerance, and L2 penalty"
   ]
  },
  {
   "cell_type": "markdown",
   "metadata": {},
   "source": [
    "# Fire up Turi Create"
   ]
  },
  {
   "cell_type": "markdown",
   "metadata": {},
   "source": [
    "Make sure you have the latest version of Turi Create"
   ]
  },
  {
   "cell_type": "code",
   "execution_count": 1,
   "metadata": {},
   "outputs": [],
   "source": [
    "import turicreate"
   ]
  },
  {
   "cell_type": "markdown",
   "metadata": {},
   "source": [
    "# Load in house sales data\n",
    "\n",
    "Dataset is from house sales in King County, the region where the city of Seattle, WA is located."
   ]
  },
  {
   "cell_type": "code",
   "execution_count": 2,
   "metadata": {},
   "outputs": [
    {
     "data": {
      "text/html": [
       "<pre>Finished parsing file /home/newuser/venv/course2/kc_house_data.csv</pre>"
      ],
      "text/plain": [
       "Finished parsing file /home/newuser/venv/course2/kc_house_data.csv"
      ]
     },
     "metadata": {},
     "output_type": "display_data"
    },
    {
     "data": {
      "text/html": [
       "<pre>Parsing completed. Parsed 100 lines in 0.231255 secs.</pre>"
      ],
      "text/plain": [
       "Parsing completed. Parsed 100 lines in 0.231255 secs."
      ]
     },
     "metadata": {},
     "output_type": "display_data"
    },
    {
     "name": "stdout",
     "output_type": "stream",
     "text": [
      "------------------------------------------------------\n",
      "Inferred types from first 100 line(s) of file as \n",
      "column_type_hints=[int,str,float,int,float,int,int,float,int,int,int,int,int,int,int,int,int,float,float,int,int]\n",
      "If parsing fails due to incorrect types, you can correct\n",
      "the inferred type list above and pass it to read_csv in\n",
      "the column_type_hints argument\n",
      "------------------------------------------------------\n"
     ]
    },
    {
     "data": {
      "text/html": [
       "<pre>Finished parsing file /home/newuser/venv/course2/kc_house_data.csv</pre>"
      ],
      "text/plain": [
       "Finished parsing file /home/newuser/venv/course2/kc_house_data.csv"
      ]
     },
     "metadata": {},
     "output_type": "display_data"
    },
    {
     "data": {
      "text/html": [
       "<pre>Parsing completed. Parsed 21613 lines in 0.186383 secs.</pre>"
      ],
      "text/plain": [
       "Parsing completed. Parsed 21613 lines in 0.186383 secs."
      ]
     },
     "metadata": {},
     "output_type": "display_data"
    }
   ],
   "source": [
    "sales = turicreate.SFrame('kc_house_data.csv')"
   ]
  },
  {
   "cell_type": "markdown",
   "metadata": {},
   "source": [
    "If we want to do any \"feature engineering\" like creating new features or adjusting existing ones we should do this directly using the SFrames as seen in the first notebook of Week 2. For this notebook, however, we will work with the existing features."
   ]
  },
  {
   "cell_type": "markdown",
   "metadata": {},
   "source": [
    "\n",
    "# Import useful functions from previous notebook"
   ]
  },
  {
   "cell_type": "markdown",
   "metadata": {},
   "source": [
    "As in Week 2, we convert the SFrame into a 2D Numpy array. Copy and paste `get_numpy_data()` from the second notebook of Week 2."
   ]
  },
  {
   "cell_type": "code",
   "execution_count": 3,
   "metadata": {},
   "outputs": [],
   "source": [
    "import numpy as np # note this allows us to refer to numpy as np instead "
   ]
  },
  {
   "cell_type": "code",
   "execution_count": 4,
   "metadata": {},
   "outputs": [],
   "source": [
    "def get_numpy_data(data_sframe,feature,output):\n",
    "    data_sframe['constant'] = 1\n",
    "    features = ['constant'] + feature\n",
    "    features_sframe = data_sframe[features]\n",
    "    features_matrix = features_sframe.to_numpy()\n",
    "    output_sarray = data_sframe[output]\n",
    "    output_array = output_sarray.to_numpy()\n",
    "    return (features_matrix,output_array)"
   ]
  },
  {
   "cell_type": "markdown",
   "metadata": {},
   "source": [
    "Also, copy and paste the `predict_output()` function to compute the predictions for an entire matrix of features given the matrix and the weights:"
   ]
  },
  {
   "cell_type": "code",
   "execution_count": 5,
   "metadata": {},
   "outputs": [],
   "source": [
    "def predict_output(features_matrix,weights):\n",
    "    predictions = np.dot(features_matrix,weights)\n",
    "    return (predictions)"
   ]
  },
  {
   "cell_type": "markdown",
   "metadata": {},
   "source": [
    "# Computing the Derivative"
   ]
  },
  {
   "cell_type": "markdown",
   "metadata": {},
   "source": [
    "We are now going to move to computing the derivative of the regression cost function. Recall that the cost function is the sum over the data points of the squared difference between an observed output and a predicted output, plus the L2 penalty term.\n",
    "```\n",
    "Cost(w)\n",
    "= SUM[ (prediction - output)^2 ]\n",
    "+ l2_penalty*(w[0]^2 + w[1]^2 + ... + w[k]^2).\n",
    "```\n",
    "\n",
    "Since the derivative of a sum is the sum of the derivatives, we can take the derivative of the first part (the RSS) as we did in the notebook for the unregularized case in Week 2 and add the derivative of the regularization part.  As we saw, the derivative of the RSS with respect to `w[i]` can be written as: \n",
    "```\n",
    "2*SUM[ error*[feature_i] ].\n",
    "```\n",
    "The derivative of the regularization term with respect to `w[i]` is:\n",
    "```\n",
    "2*l2_penalty*w[i].\n",
    "```\n",
    "Summing both, we get\n",
    "```\n",
    "2*SUM[ error*[feature_i] ] + 2*l2_penalty*w[i].\n",
    "```\n",
    "That is, the derivative for the weight for feature i is the sum (over data points) of 2 times the product of the error and the feature itself, plus `2*l2_penalty*w[i]`. \n",
    "\n",
    "**We will not regularize the constant.**  Thus, in the case of the constant, the derivative is just twice the sum of the errors (without the `2*l2_penalty*w[0]` term).\n",
    "\n",
    "Recall that twice the sum of the product of two vectors is just twice the dot product of the two vectors. Therefore the derivative for the weight for feature_i is just two times the dot product between the values of feature_i and the current errors, plus `2*l2_penalty*w[i]`.\n",
    "\n",
    "With this in mind complete the following derivative function which computes the derivative of the weight given the value of the feature (over all data points) and the errors (over all data points).  To decide when to we are dealing with the constant (so we don't regularize it) we added the extra parameter to the call `feature_is_constant` which you should set to `True` when computing the derivative of the constant and `False` otherwise."
   ]
  },
  {
   "cell_type": "code",
   "execution_count": 6,
   "metadata": {},
   "outputs": [],
   "source": [
    "def feature_derivative_ridge(errors, feature, weight, l2_penalty, feature_is_constant):\n",
    "    # If feature_is_constant is True, derivative is twice the dot product of errors and feature  \n",
    "    if feature_is_constant is True:\n",
    "        derivative = (2*errors*feature).sum() \n",
    "    # Otherwise, derivative is twice the dot product plus 2*l2_penalty*weight\n",
    "    else:\n",
    "        derivative = (2*errors*feature).sum() + (2*l2_penalty*weight).sum()\n",
    "    return derivative"
   ]
  },
  {
   "cell_type": "markdown",
   "metadata": {},
   "source": [
    "To test your feature derivartive run the following:"
   ]
  },
  {
   "cell_type": "code",
   "execution_count": 7,
   "metadata": {},
   "outputs": [
    {
     "name": "stdout",
     "output_type": "stream",
     "text": [
      "-56554166815950.0\n",
      "-56554166815950.0\n",
      "\n",
      "-22446749330.0\n",
      "-22446749330.0\n"
     ]
    }
   ],
   "source": [
    "(example_features, example_output) = get_numpy_data(sales, ['sqft_living'], 'price') \n",
    "my_weights = np.array([1., 10.])\n",
    "test_predictions = predict_output(example_features, my_weights) \n",
    "errors = test_predictions - example_output # prediction errors\n",
    "\n",
    "# next two lines should print the same values\n",
    "print (feature_derivative_ridge(errors, example_features[:,1], my_weights[1], 1, False))\n",
    "print (np.sum(errors*example_features[:,1])*2+20.)\n",
    "print ('')\n",
    "\n",
    "# next two lines should print the same values\n",
    "print (feature_derivative_ridge(errors, example_features[:,0], my_weights[0], 1, True))\n",
    "print (np.sum(errors)*2.)"
   ]
  },
  {
   "cell_type": "markdown",
   "metadata": {},
   "source": [
    "# Gradient Descent"
   ]
  },
  {
   "cell_type": "markdown",
   "metadata": {},
   "source": [
    "Now we will write a function that performs a gradient descent. The basic premise is simple. Given a starting point we update the current weights by moving in the negative gradient direction. Recall that the gradient is the direction of *increase* and therefore the negative gradient is the direction of *decrease* and we're trying to *minimize* a cost function. \n",
    "\n",
    "The amount by which we move in the negative gradient *direction*  is called the 'step size'. We stop when we are 'sufficiently close' to the optimum. Unlike in Week 2, this time we will set a **maximum number of iterations** and take gradient steps until we reach this maximum number. If no maximum number is supplied, the maximum should be set 100 by default. (Use default parameter values in Python.)\n",
    "\n",
    "With this in mind, complete the following gradient descent function below using your derivative function above. For each step in the gradient descent, we update the weight for each feature before computing our stopping criteria."
   ]
  },
  {
   "cell_type": "code",
   "execution_count": 8,
   "metadata": {},
   "outputs": [],
   "source": [
    "def ridge_regression_gradient_descent(feature_matrix, output, initial_weights, step_size, l2_penalty, max_iterations):\n",
    "    print ('Starting gradient descent with l2_penalty = ' + str(l2_penalty))\n",
    "    \n",
    "    weights = np.array(initial_weights) # make sure it's a numpy array\n",
    "    iteration = 0 # iteration counter\n",
    "    print_frequency = 1  # for adjusting frequency of debugging output\n",
    "    while not max_iterations == iteration:\n",
    "    #while not reached maximum number of iterations:\n",
    "        iteration += 1  # increment iteration counter\n",
    "        ### === code section for adjusting frequency of debugging output. ===\n",
    "        if iteration == 10:\n",
    "            print_frequency = 10\n",
    "        if iteration == 100:\n",
    "            print_frequency = 100\n",
    "        if iteration%print_frequency==0:\n",
    "            print('Iteration = ' + str(iteration))\n",
    "        ### === end code section ===\n",
    "        \n",
    "        # compute the predictions based on feature_matrix and weights using your predict_output() function\n",
    "        predictions = predict_output(feature_matrix,weights)\n",
    "        # compute the errors as predictions - output\n",
    "        errors = predictions - output\n",
    "        # from time to time, print the value of the cost function\n",
    "        if iteration%print_frequency==0:\n",
    "            print ('Cost function = ', str(np.dot(errors,errors) + l2_penalty*(np.dot(weights,weights) - weights[0]**2)))\n",
    "        \n",
    "        for i in range(len(weights)): # loop over each weight\n",
    "            # Recall that feature_matrix[:,i] is the feature column associated with weights[i]\n",
    "            # compute the derivative for weight[i].\n",
    "            #(Remember: when i=0, you are computing the derivative of the constant!)\n",
    "            if l2_penalty ==0:\n",
    "                derivative = feature_derivative_ridge(errors, feature_matrix[:,i], weights, l2_penalty, True)\n",
    "            else:\n",
    "                derivative = feature_derivative_ridge(errors, feature_matrix[:,i], weights, l2_penalty, False)\n",
    "            # subtract the step size times the derivative from the current weight\n",
    "            weights[i] = weights[i] - (step_size * derivative)\n",
    "            \n",
    "    print ('Done with gradient descent at iteration ', iteration)\n",
    "    print ('Learned weights = ', str(weights))\n",
    "    return (weights)"
   ]
  },
  {
   "cell_type": "code",
   "execution_count": null,
   "metadata": {},
   "outputs": [],
   "source": []
  },
  {
   "cell_type": "markdown",
   "metadata": {},
   "source": [
    "# Visualizing effect of L2 penalty"
   ]
  },
  {
   "cell_type": "markdown",
   "metadata": {},
   "source": [
    "The L2 penalty gets its name because it causes weights to have small L2 norms than otherwise. Let's see how large weights get penalized. Let us consider a simple model with 1 feature:"
   ]
  },
  {
   "cell_type": "code",
   "execution_count": 9,
   "metadata": {},
   "outputs": [],
   "source": [
    "simple_features = ['sqft_living']\n",
    "my_output = 'price'"
   ]
  },
  {
   "cell_type": "markdown",
   "metadata": {},
   "source": [
    "Let us split the dataset into training set and test set. Make sure to use `seed=0`:"
   ]
  },
  {
   "cell_type": "code",
   "execution_count": 10,
   "metadata": {},
   "outputs": [],
   "source": [
    "train_data,test_data = sales.random_split(.8,seed=0)"
   ]
  },
  {
   "cell_type": "markdown",
   "metadata": {},
   "source": [
    "In this part, we will only use `'sqft_living'` to predict `'price'`. Use the `get_numpy_data` function to get a Numpy versions of your data with only this feature, for both the `train_data` and the `test_data`. "
   ]
  },
  {
   "cell_type": "code",
   "execution_count": 11,
   "metadata": {},
   "outputs": [],
   "source": [
    "(simple_feature_matrix, output) = get_numpy_data(train_data, simple_features, my_output)\n",
    "(simple_test_feature_matrix, test_output) = get_numpy_data(test_data, simple_features, my_output)"
   ]
  },
  {
   "cell_type": "markdown",
   "metadata": {},
   "source": [
    "Let's set the parameters for our optimization:"
   ]
  },
  {
   "cell_type": "code",
   "execution_count": 12,
   "metadata": {},
   "outputs": [],
   "source": [
    "initial_weights = np.array([0., 0.])\n",
    "step_size = 1e-12\n",
    "max_iterations=1000"
   ]
  },
  {
   "cell_type": "markdown",
   "metadata": {},
   "source": [
    "First, let's consider no regularization.  Set the `l2_penalty` to `0.0` and run your ridge regression algorithm to learn the weights of your model.  Call your weights:\n",
    "\n",
    "`simple_weights_0_penalty`\n",
    "\n",
    "we'll use them later."
   ]
  },
  {
   "cell_type": "code",
   "execution_count": 13,
   "metadata": {},
   "outputs": [],
   "source": [
    "l2_penalty = 0.0"
   ]
  },
  {
   "cell_type": "code",
   "execution_count": 14,
   "metadata": {},
   "outputs": [
    {
     "name": "stdout",
     "output_type": "stream",
     "text": [
      "Starting gradient descent with l2_penalty = 0.0\n",
      "Iteration = 1\n",
      "Cost function =  7433051852335772.0\n",
      "Iteration = 2\n",
      "Cost function =  5394267213533688.0\n",
      "Iteration = 3\n",
      "Cost function =  4023237736286403.0\n",
      "Iteration = 4\n",
      "Cost function =  3101256183295487.5\n",
      "Iteration = 5\n",
      "Cost function =  2481247643601012.0\n",
      "Iteration = 6\n",
      "Cost function =  2064308076801446.5\n",
      "Iteration = 7\n",
      "Cost function =  1783927096156441.0\n",
      "Iteration = 8\n",
      "Cost function =  1595378201854741.8\n",
      "Iteration = 9\n",
      "Cost function =  1468583989698184.5\n",
      "Iteration = 10\n",
      "Cost function =  1383318190090050.8\n",
      "Iteration = 20\n",
      "Cost function =  1211562139024524.5\n",
      "Iteration = 30\n",
      "Cost function =  1208313761205656.5\n",
      "Iteration = 40\n",
      "Cost function =  1208252324779675.5\n",
      "Iteration = 50\n",
      "Cost function =  1208251162139724.8\n",
      "Iteration = 60\n",
      "Cost function =  1208251139442068.0\n",
      "Iteration = 70\n",
      "Cost function =  1208251138303840.5\n",
      "Iteration = 80\n",
      "Cost function =  1208251137573361.5\n",
      "Iteration = 90\n",
      "Cost function =  1208251136850593.8\n",
      "Iteration = 100\n",
      "Cost function =  1208251136127972.2\n",
      "Iteration = 200\n",
      "Cost function =  1208251128901788.8\n",
      "Iteration = 300\n",
      "Cost function =  1208251121675612.8\n",
      "Iteration = 400\n",
      "Cost function =  1208251114449445.5\n",
      "Iteration = 500\n",
      "Cost function =  1208251107223286.8\n",
      "Iteration = 600\n",
      "Cost function =  1208251099997136.0\n",
      "Iteration = 700\n",
      "Cost function =  1208251092770993.2\n",
      "Iteration = 800\n",
      "Cost function =  1208251085544859.0\n",
      "Iteration = 900\n",
      "Cost function =  1208251078318733.0\n",
      "Iteration = 1000\n",
      "Cost function =  1208251071092615.2\n",
      "Done with gradient descent at iteration  1000\n",
      "Learned weights =  [-1.63113515e-01  2.63024369e+02]\n"
     ]
    }
   ],
   "source": [
    "simple_weights_0_penalty = ridge_regression_gradient_descent(simple_feature_matrix, output, initial_weights, step_size, l2_penalty, max_iterations)"
   ]
  },
  {
   "cell_type": "markdown",
   "metadata": {},
   "source": [
    "Next, let's consider high regularization.  Set the `l2_penalty` to `1e11` and run your ridge regression algorithm to learn the weights of your model.  Call your weights:\n",
    "\n",
    "`simple_weights_high_penalty`\n",
    "\n",
    "we'll use them later."
   ]
  },
  {
   "cell_type": "code",
   "execution_count": 15,
   "metadata": {},
   "outputs": [],
   "source": [
    "l2_penalty = 1e11"
   ]
  },
  {
   "cell_type": "code",
   "execution_count": 16,
   "metadata": {},
   "outputs": [
    {
     "name": "stdout",
     "output_type": "stream",
     "text": [
      "Starting gradient descent with l2_penalty = 100000000000.0\n",
      "Iteration = 1\n",
      "Cost function =  7433051852335772.0\n",
      "Iteration = 2\n",
      "Cost function =  5618413973518477.0\n",
      "Iteration = 3\n",
      "Cost function =  4887114466889086.0\n",
      "Iteration = 4\n",
      "Cost function =  4593425492060736.0\n",
      "Iteration = 5\n",
      "Cost function =  4494711218295551.0\n",
      "Iteration = 6\n",
      "Cost function =  4493435782335781.0\n",
      "Iteration = 7\n",
      "Cost function =  4547029922292214.0\n",
      "Iteration = 8\n",
      "Cost function =  4634837980745688.0\n",
      "Iteration = 9\n",
      "Cost function =  4745446002019666.0\n",
      "Iteration = 10\n",
      "Cost function =  4871636903687705.0\n",
      "Iteration = 20\n",
      "Cost function =  6276410514091874.0\n",
      "Iteration = 30\n",
      "Cost function =  7226055400849695.0\n",
      "Iteration = 40\n",
      "Cost function =  7713096108833538.0\n",
      "Iteration = 50\n",
      "Cost function =  7942519923763502.0\n",
      "Iteration = 60\n",
      "Cost function =  8047096857059054.0\n",
      "Iteration = 70\n",
      "Cost function =  8094112704378130.0\n",
      "Iteration = 80\n",
      "Cost function =  8115124120372099.0\n",
      "Iteration = 90\n",
      "Cost function =  8124489467668684.0\n",
      "Iteration = 100\n",
      "Cost function =  8128658994531814.0\n",
      "Iteration = 200\n",
      "Cost function =  8132000049667629.0\n",
      "Iteration = 300\n",
      "Cost function =  8132001062580147.0\n",
      "Iteration = 400\n",
      "Cost function =  8132001062887167.0\n",
      "Iteration = 500\n",
      "Cost function =  8132001062887242.0\n",
      "Iteration = 600\n",
      "Cost function =  8132001062887242.0\n",
      "Iteration = 700\n",
      "Cost function =  8132001062887242.0\n",
      "Iteration = 800\n",
      "Cost function =  8132001062887242.0\n",
      "Iteration = 900\n",
      "Cost function =  8132001062887242.0\n",
      "Iteration = 1000\n",
      "Cost function =  8132001062887242.0\n",
      "Done with gradient descent at iteration  1000\n",
      "Learned weights =  [-263.13287236  263.13153525]\n"
     ]
    }
   ],
   "source": [
    "simple_weights_high_penalty = ridge_regression_gradient_descent(simple_feature_matrix, output, initial_weights, step_size, l2_penalty, max_iterations)"
   ]
  },
  {
   "cell_type": "markdown",
   "metadata": {},
   "source": [
    "This code will plot the two learned models.  (The blue line is for the model with no regularization and the red line is for the one with high regularization.)"
   ]
  },
  {
   "cell_type": "code",
   "execution_count": 17,
   "metadata": {},
   "outputs": [
    {
     "data": {
      "text/plain": [
       "[<matplotlib.lines.Line2D at 0x7f82636325c0>,\n",
       " <matplotlib.lines.Line2D at 0x7f82636325f8>,\n",
       " <matplotlib.lines.Line2D at 0x7f8263632668>,\n",
       " <matplotlib.lines.Line2D at 0x7f8263632748>,\n",
       " <matplotlib.lines.Line2D at 0x7f82636327f0>,\n",
       " <matplotlib.lines.Line2D at 0x7f8263632898>]"
      ]
     },
     "execution_count": 17,
     "metadata": {},
     "output_type": "execute_result"
    },
    {
     "data": {
      "image/png": "[encoded data removed]",
      "text/plain": [
       "<Figure size 432x288 with 1 Axes>"
      ]
     },
     "metadata": {
      "needs_background": "light"
     },
     "output_type": "display_data"
    }
   ],
   "source": [
    "import matplotlib.pyplot as plt\n",
    "%matplotlib inline\n",
    "plt.plot(simple_feature_matrix,output,'k.',\n",
    "         simple_feature_matrix,predict_output(simple_feature_matrix, simple_weights_0_penalty),'b-',\n",
    "        simple_feature_matrix,predict_output(simple_feature_matrix, simple_weights_high_penalty),'-')"
   ]
  },
  {
   "cell_type": "markdown",
   "metadata": {},
   "source": [
    "Compute the RSS on the TEST data for the following three sets of weights:\n",
    "1. The initial weights (all zeros)\n",
    "2. The weights learned with no regularization\n",
    "3. The weights learned with high regularization\n",
    "\n",
    "Which weights perform best?"
   ]
  },
  {
   "cell_type": "code",
   "execution_count": 18,
   "metadata": {},
   "outputs": [],
   "source": [
    "def compute_rss(feature_matrix,output,initial_weights):\n",
    "    weights = np.array(initial_weights)\n",
    "    predictions = predict_output(feature_matrix,weights)\n",
    "    errors = predictions - output\n",
    "    RSS = (pow(errors,2)).sum()\n",
    "    return RSS"
   ]
  },
  {
   "cell_type": "code",
   "execution_count": 19,
   "metadata": {},
   "outputs": [],
   "source": [
    "initial_weights = np.array([0.,0.])"
   ]
  },
  {
   "cell_type": "code",
   "execution_count": 20,
   "metadata": {},
   "outputs": [
    {
     "data": {
      "text/plain": [
       "1784273286136298.0"
      ]
     },
     "execution_count": 20,
     "metadata": {},
     "output_type": "execute_result"
    }
   ],
   "source": [
    "compute_rss(simple_test_feature_matrix,test_output,initial_weights)"
   ]
  },
  {
   "cell_type": "code",
   "execution_count": 21,
   "metadata": {},
   "outputs": [
    {
     "data": {
      "text/plain": [
       "275723632153105.56"
      ]
     },
     "execution_count": 21,
     "metadata": {},
     "output_type": "execute_result"
    }
   ],
   "source": [
    "initial_weights = np.array([-1.63113515e-01 , 2.63024369e+02])\n",
    "compute_rss(simple_test_feature_matrix,test_output,initial_weights)"
   ]
  },
  {
   "cell_type": "code",
   "execution_count": 22,
   "metadata": {},
   "outputs": [
    {
     "data": {
      "text/plain": [
       "376124.684556485"
      ]
     },
     "execution_count": 22,
     "metadata": {},
     "output_type": "execute_result"
    }
   ],
   "source": [
    "no_regularization_predictions = predict_output(simple_test_feature_matrix,initial_weights)\n",
    "no_regularization_predictions[0]"
   ]
  },
  {
   "cell_type": "code",
   "execution_count": 23,
   "metadata": {},
   "outputs": [
    {
     "data": {
      "text/plain": [
       "275713517753528.5"
      ]
     },
     "execution_count": 23,
     "metadata": {},
     "output_type": "execute_result"
    }
   ],
   "source": [
    "initial_weights = np.array([-263.13287236 , 263.13153525])\n",
    "compute_rss(simple_test_feature_matrix,test_output,initial_weights)"
   ]
  },
  {
   "cell_type": "code",
   "execution_count": 24,
   "metadata": {},
   "outputs": [
    {
     "data": {
      "text/plain": [
       "376014.96253514"
      ]
     },
     "execution_count": 24,
     "metadata": {},
     "output_type": "execute_result"
    }
   ],
   "source": [
    "high_regularization_predictions = predict_output(simple_test_feature_matrix,initial_weights)\n",
    "high_regularization_predictions[0]"
   ]
  },
  {
   "cell_type": "markdown",
   "metadata": {},
   "source": [
    "***QUIZ QUESTIONS***\n",
    "1. What is the value of the coefficient for `sqft_living` that you learned with no regularization, rounded to 1 decimal place?  What about the one with high regularization?\n",
    "2. Comparing the lines you fit with the with no regularization versus high regularization, which one is steeper?\n",
    "3. What are the RSS on the test data for each of the set of weights above (initial, no regularization, high regularization)? \n"
   ]
  },
  {
   "cell_type": "markdown",
   "metadata": {},
   "source": [
    "# Running a multiple regression with L2 penalty"
   ]
  },
  {
   "cell_type": "markdown",
   "metadata": {},
   "source": [
    "Let us now consider a model with 2 features: `['sqft_living', 'sqft_living15']`."
   ]
  },
  {
   "cell_type": "markdown",
   "metadata": {},
   "source": [
    "First, create Numpy versions of your training and test data with these two features. "
   ]
  },
  {
   "cell_type": "code",
   "execution_count": 25,
   "metadata": {},
   "outputs": [],
   "source": [
    "model_features = ['sqft_living', 'sqft_living15'] # sqft_living15 is the average squarefeet for the nearest 15 neighbors. \n",
    "my_output = 'price'\n",
    "(feature_matrix, output) = get_numpy_data(train_data, model_features, my_output)\n",
    "(test_feature_matrix, test_output) = get_numpy_data(test_data, model_features, my_output)"
   ]
  },
  {
   "cell_type": "markdown",
   "metadata": {},
   "source": [
    "We need to re-inialize the weights, since we have one extra parameter. Let us also set the step size and maximum number of iterations."
   ]
  },
  {
   "cell_type": "code",
   "execution_count": 26,
   "metadata": {},
   "outputs": [],
   "source": [
    "initial_weights = np.array([0.0,0.0,0.0])\n",
    "step_size = 1e-12\n",
    "max_iterations = 1000"
   ]
  },
  {
   "cell_type": "markdown",
   "metadata": {},
   "source": [
    "First, let's consider no regularization.  Set the `l2_penalty` to `0.0` and run your ridge regression algorithm to learn the weights of your model.  Call your weights:\n",
    "\n",
    "`multiple_weights_0_penalty`"
   ]
  },
  {
   "cell_type": "code",
   "execution_count": 27,
   "metadata": {},
   "outputs": [
    {
     "name": "stdout",
     "output_type": "stream",
     "text": [
      "Starting gradient descent with l2_penalty = 0.0\n",
      "Iteration = 1\n",
      "Cost function =  7433051852335772.0\n",
      "Iteration = 2\n",
      "Cost function =  4056752332045942.5\n",
      "Iteration = 3\n",
      "Cost function =  2529565114525309.0\n",
      "Iteration = 4\n",
      "Cost function =  1838556694300506.5\n",
      "Iteration = 5\n",
      "Cost function =  1525675575150296.5\n",
      "Iteration = 6\n",
      "Cost function =  1383789498571784.0\n",
      "Iteration = 7\n",
      "Cost function =  1319232606146274.0\n",
      "Iteration = 8\n",
      "Cost function =  1289648871879140.5\n",
      "Iteration = 9\n",
      "Cost function =  1275884723913737.0\n",
      "Iteration = 10\n",
      "Cost function =  1269278807397619.2\n",
      "Iteration = 20\n",
      "Cost function =  1257812386017016.0\n",
      "Iteration = 30\n",
      "Cost function =  1251954570861556.2\n",
      "Iteration = 40\n",
      "Cost function =  1246755422656426.0\n",
      "Iteration = 50\n",
      "Cost function =  1242139508166548.2\n",
      "Iteration = 60\n",
      "Cost function =  1238041400480994.0\n",
      "Iteration = 70\n",
      "Cost function =  1234403012742170.5\n",
      "Iteration = 80\n",
      "Cost function =  1231172774196731.0\n",
      "Iteration = 90\n",
      "Cost function =  1228304899227735.5\n",
      "Iteration = 100\n",
      "Cost function =  1225758738385979.0\n",
      "Iteration = 200\n",
      "Cost function =  1211738880290897.0\n",
      "Iteration = 300\n",
      "Cost function =  1207473079755049.8\n",
      "Iteration = 400\n",
      "Cost function =  1206175124539965.0\n",
      "Iteration = 500\n",
      "Cost function =  1205780188995876.5\n",
      "Iteration = 600\n",
      "Cost function =  1205660013231388.8\n",
      "Iteration = 700\n",
      "Cost function =  1205623438011734.2\n",
      "Iteration = 800\n",
      "Cost function =  1205612299743252.2\n",
      "Iteration = 900\n",
      "Cost function =  1205608901119130.5\n",
      "Iteration = 1000\n",
      "Cost function =  1205607857419329.8\n",
      "Done with gradient descent at iteration  1000\n",
      "Learned weights =  [ -0.35743483 243.05416982  22.41481497]\n"
     ]
    }
   ],
   "source": [
    "l2_penalty = 0.0\n",
    "multiple_weights_0_penalty = ridge_regression_gradient_descent(feature_matrix, output, initial_weights, step_size, l2_penalty, max_iterations)"
   ]
  },
  {
   "cell_type": "markdown",
   "metadata": {},
   "source": [
    "Next, let's consider high regularization.  Set the `l2_penalty` to `1e11` and run your ridge regression algorithm to learn the weights of your model.  Call your weights:\n",
    "\n",
    "`multiple_weights_high_penalty`"
   ]
  },
  {
   "cell_type": "code",
   "execution_count": 28,
   "metadata": {},
   "outputs": [
    {
     "name": "stdout",
     "output_type": "stream",
     "text": [
      "Starting gradient descent with l2_penalty = 100000000000.0\n",
      "Iteration = 1\n",
      "Cost function =  7433051852335772.0\n",
      "Iteration = 2\n",
      "Cost function =  4664112707676022.0\n",
      "Iteration = 3\n",
      "Cost function =  4022816949307318.5\n",
      "Iteration = 4\n",
      "Cost function =  3800375932916661.0\n",
      "Iteration = 5\n",
      "Cost function =  3700813053654019.0\n",
      "Iteration = 6\n",
      "Cost function =  3656935180049751.0\n",
      "Iteration = 7\n",
      "Cost function =  3647823160409745.0\n",
      "Iteration = 8\n",
      "Cost function =  3663733522966269.5\n",
      "Iteration = 9\n",
      "Cost function =  3698342730790874.5\n",
      "Iteration = 10\n",
      "Cost function =  3746858974750404.0\n",
      "Iteration = 20\n",
      "Cost function =  4443509176183998.0\n",
      "Iteration = 30\n",
      "Cost function =  4956806528259490.0\n",
      "Iteration = 40\n",
      "Cost function =  5242481204242328.0\n",
      "Iteration = 50\n",
      "Cost function =  5407995223904432.0\n",
      "Iteration = 60\n",
      "Cost function =  5519233550746618.0\n",
      "Iteration = 70\n",
      "Cost function =  5606946650894873.0\n",
      "Iteration = 80\n",
      "Cost function =  5684267283211147.0\n",
      "Iteration = 90\n",
      "Cost function =  5756529878581778.0\n",
      "Iteration = 100\n",
      "Cost function =  5825783129743215.0\n",
      "Iteration = 200\n",
      "Cost function =  6395742362239455.0\n",
      "Iteration = 300\n",
      "Cost function =  6750140276985443.0\n",
      "Iteration = 400\n",
      "Cost function =  6949550210837608.0\n",
      "Iteration = 500\n",
      "Cost function =  7057017641111784.0\n",
      "Iteration = 600\n",
      "Cost function =  7113769290418167.0\n",
      "Iteration = 700\n",
      "Cost function =  7143439331180037.0\n",
      "Iteration = 800\n",
      "Cost function =  7158872427713038.0\n",
      "Iteration = 900\n",
      "Cost function =  7166879262545139.0\n",
      "Iteration = 1000\n",
      "Cost function =  7171027743355780.0\n",
      "Done with gradient descent at iteration  1000\n",
      "Learned weights =  [-265.57870106  243.21931014   22.35724477]\n"
     ]
    }
   ],
   "source": [
    "l2_penalty = 1e11\n",
    "multiple_weights_high_penalty = ridge_regression_gradient_descent(feature_matrix, output, initial_weights, step_size, l2_penalty, max_iterations)"
   ]
  },
  {
   "cell_type": "markdown",
   "metadata": {},
   "source": [
    "Compute the RSS on the TEST data for the following three sets of weights:\n",
    "1. The initial weights (all zeros)\n",
    "2. The weights learned with no regularization\n",
    "3. The weights learned with high regularization\n",
    "\n",
    "Which weights perform best?"
   ]
  },
  {
   "cell_type": "code",
   "execution_count": 29,
   "metadata": {},
   "outputs": [
    {
     "data": {
      "text/plain": [
       "274067615918575.56"
      ]
     },
     "execution_count": 29,
     "metadata": {},
     "output_type": "execute_result"
    }
   ],
   "source": [
    "compute_rss(test_feature_matrix,test_output,multiple_weights_0_penalty)"
   ]
  },
  {
   "cell_type": "code",
   "execution_count": 30,
   "metadata": {},
   "outputs": [
    {
     "data": {
      "text/plain": [
       "274053539961049.8"
      ]
     },
     "execution_count": 30,
     "metadata": {},
     "output_type": "execute_result"
    }
   ],
   "source": [
    "compute_rss(test_feature_matrix,test_output,multiple_weights_high_penalty)"
   ]
  },
  {
   "cell_type": "markdown",
   "metadata": {},
   "source": [
    "Predict the house price for the 1st house in the test set using the no regularization and high regularization models. (Remember that python starts indexing from 0.) How far is the prediction from the actual price?  Which weights perform best for the 1st house?"
   ]
  },
  {
   "cell_type": "code",
   "execution_count": 31,
   "metadata": {},
   "outputs": [
    {
     "name": "stdout",
     "output_type": "stream",
     "text": [
      "Starting gradient descent with l2_penalty = 100000000000.0\n",
      "Iteration = 1\n",
      "Cost function =  7433051852335772.0\n",
      "Iteration = 2\n",
      "Cost function =  4664112707676022.0\n",
      "Iteration = 3\n",
      "Cost function =  4022816949307318.5\n",
      "Iteration = 4\n",
      "Cost function =  3800375932916661.0\n",
      "Iteration = 5\n",
      "Cost function =  3700813053654019.0\n",
      "Iteration = 6\n",
      "Cost function =  3656935180049751.0\n",
      "Iteration = 7\n",
      "Cost function =  3647823160409745.0\n",
      "Iteration = 8\n",
      "Cost function =  3663733522966269.5\n",
      "Iteration = 9\n",
      "Cost function =  3698342730790874.5\n",
      "Iteration = 10\n",
      "Cost function =  3746858974750404.0\n",
      "Iteration = 20\n",
      "Cost function =  4443509176183998.0\n",
      "Iteration = 30\n",
      "Cost function =  4956806528259490.0\n",
      "Iteration = 40\n",
      "Cost function =  5242481204242328.0\n",
      "Iteration = 50\n",
      "Cost function =  5407995223904432.0\n",
      "Iteration = 60\n",
      "Cost function =  5519233550746618.0\n",
      "Iteration = 70\n",
      "Cost function =  5606946650894873.0\n",
      "Iteration = 80\n",
      "Cost function =  5684267283211147.0\n",
      "Iteration = 90\n",
      "Cost function =  5756529878581778.0\n",
      "Iteration = 100\n",
      "Cost function =  5825783129743215.0\n",
      "Iteration = 200\n",
      "Cost function =  6395742362239455.0\n",
      "Iteration = 300\n",
      "Cost function =  6750140276985443.0\n",
      "Iteration = 400\n",
      "Cost function =  6949550210837608.0\n",
      "Iteration = 500\n",
      "Cost function =  7057017641111784.0\n",
      "Iteration = 600\n",
      "Cost function =  7113769290418167.0\n",
      "Iteration = 700\n",
      "Cost function =  7143439331180037.0\n",
      "Iteration = 800\n",
      "Cost function =  7158872427713038.0\n",
      "Iteration = 900\n",
      "Cost function =  7166879262545139.0\n",
      "Iteration = 1000\n",
      "Cost function =  7171027743355780.0\n",
      "Done with gradient descent at iteration  1000\n",
      "Learned weights =  [-265.57870106  243.21931014   22.35724477]\n"
     ]
    }
   ],
   "source": [
    "multiple_weights_high_penalty = ridge_regression_gradient_descent(feature_matrix, output, initial_weights, step_size, l2_penalty, max_iterations)"
   ]
  },
  {
   "cell_type": "code",
   "execution_count": 32,
   "metadata": {},
   "outputs": [
    {
     "data": {
      "text/plain": [
       "387465.4760582353"
      ]
     },
     "execution_count": 32,
     "metadata": {},
     "output_type": "execute_result"
    }
   ],
   "source": [
    "no_regularization_predictions = predict_output(test_feature_matrix,multiple_weights_0_penalty)\n",
    "no_regularization_predictions[0]"
   ]
  },
  {
   "cell_type": "code",
   "execution_count": 33,
   "metadata": {},
   "outputs": [
    {
     "data": {
      "text/plain": [
       "387333.9304929946"
      ]
     },
     "execution_count": 33,
     "metadata": {},
     "output_type": "execute_result"
    }
   ],
   "source": [
    "high_regularization_predictions = predict_output(test_feature_matrix,multiple_weights_high_penalty)\n",
    "high_regularization_predictions[0]"
   ]
  },
  {
   "cell_type": "code",
   "execution_count": 34,
   "metadata": {},
   "outputs": [
    {
     "data": {
      "text/plain": [
       "310000.0"
      ]
     },
     "execution_count": 34,
     "metadata": {},
     "output_type": "execute_result"
    }
   ],
   "source": [
    "test_output[0]"
   ]
  },
  {
   "cell_type": "markdown",
   "metadata": {
    "collapsed": true
   },
   "source": [
    "***QUIZ QUESTIONS***\n",
    "1. What is the value of the coefficient for `sqft_living` that you learned with no regularization, rounded to 1 decimal place?  What about the one with high regularization?\n",
    "2. What are the RSS on the test data for each of the set of weights above (initial, no regularization, high regularization)? \n",
    "3. We make prediction for the first house in the test set using two sets of weights (no regularization vs high regularization). Which weights make better prediction <u>for that particular house</u>?"
   ]
  },
  {
   "cell_type": "code",
   "execution_count": null,
   "metadata": {},
   "outputs": [],
   "source": []
  },
  {
   "cell_type": "code",
   "execution_count": null,
   "metadata": {},
   "outputs": [],
   "source": []
  }
 ],
 "metadata": {
  "kernelspec": {
   "display_name": "Python 3",
   "language": "python",
   "name": "python3"
  },
  "language_info": {
   "codemirror_mode": {
    "name": "ipython",
    "version": 3
   },
   "file_extension": ".py",
   "mimetype": "text/x-python",
   "name": "python",
   "nbconvert_exporter": "python",
   "pygments_lexer": "ipython3",
   "version": "3.6.9"
  }
 },
 "nbformat": 4,
 "nbformat_minor": 1
}
