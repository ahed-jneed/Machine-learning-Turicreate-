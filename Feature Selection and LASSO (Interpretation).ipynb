{
 "cells": [
  {
   "cell_type": "markdown",
   "metadata": {},
   "source": [
    "# Regression Week 5: Feature Selection and LASSO (Interpretation)"
   ]
  },
  {
   "cell_type": "markdown",
   "metadata": {},
   "source": [
    "In this notebook, you will use LASSO to select features, building on a pre-implemented solver for LASSO (using Turi Create, though you can use other solvers). You will:\n",
    "* Run LASSO with different L1 penalties.\n",
    "* Choose best L1 penalty using a validation set.\n",
    "* Choose best L1 penalty using a validation set, with additional constraint on the size of subset.\n",
    "\n",
    "In the second notebook, you will implement your own LASSO solver, using coordinate descent. "
   ]
  },
  {
   "cell_type": "markdown",
   "metadata": {},
   "source": [
    "# Fire up Turi Create"
   ]
  },
  {
   "cell_type": "code",
   "execution_count": 1,
   "metadata": {},
   "outputs": [],
   "source": [
    "import turicreate"
   ]
  },
  {
   "cell_type": "markdown",
   "metadata": {},
   "source": [
    "# Load in house sales data\n",
    "\n",
    "Dataset is from house sales in King County, the region where the city of Seattle, WA is located."
   ]
  },
  {
   "cell_type": "code",
   "execution_count": 2,
   "metadata": {
    "scrolled": true
   },
   "outputs": [
    {
     "data": {
      "text/html": [
       "<pre>Finished parsing file /home/newuser/venv/course2/kc_house_data.csv</pre>"
      ],
      "text/plain": [
       "Finished parsing file /home/newuser/venv/course2/kc_house_data.csv"
      ]
     },
     "metadata": {},
     "output_type": "display_data"
    },
    {
     "data": {
      "text/html": [
       "<pre>Parsing completed. Parsed 100 lines in 0.562664 secs.</pre>"
      ],
      "text/plain": [
       "Parsing completed. Parsed 100 lines in 0.562664 secs."
      ]
     },
     "metadata": {},
     "output_type": "display_data"
    },
    {
     "name": "stdout",
     "output_type": "stream",
     "text": [
      "------------------------------------------------------\n",
      "Inferred types from first 100 line(s) of file as \n",
      "column_type_hints=[int,str,float,int,float,int,int,float,int,int,int,int,int,int,int,int,int,float,float,int,int]\n",
      "If parsing fails due to incorrect types, you can correct\n",
      "the inferred type list above and pass it to read_csv in\n",
      "the column_type_hints argument\n",
      "------------------------------------------------------\n"
     ]
    },
    {
     "data": {
      "text/html": [
       "<pre>Finished parsing file /home/newuser/venv/course2/kc_house_data.csv</pre>"
      ],
      "text/plain": [
       "Finished parsing file /home/newuser/venv/course2/kc_house_data.csv"
      ]
     },
     "metadata": {},
     "output_type": "display_data"
    },
    {
     "data": {
      "text/html": [
       "<pre>Parsing completed. Parsed 21613 lines in 0.40355 secs.</pre>"
      ],
      "text/plain": [
       "Parsing completed. Parsed 21613 lines in 0.40355 secs."
      ]
     },
     "metadata": {},
     "output_type": "display_data"
    }
   ],
   "source": [
    "sales = turicreate.SFrame('kc_house_data.csv')"
   ]
  },
  {
   "cell_type": "markdown",
   "metadata": {},
   "source": [
    "# Create new features"
   ]
  },
  {
   "cell_type": "markdown",
   "metadata": {},
   "source": [
    "As in Week 2, we consider features that are some transformations of inputs."
   ]
  },
  {
   "cell_type": "code",
   "execution_count": 3,
   "metadata": {},
   "outputs": [],
   "source": [
    "from math import log, sqrt\n",
    "sales['sqft_living_sqrt'] = sales['sqft_living'].apply(sqrt)\n",
    "sales['sqft_lot_sqrt'] = sales['sqft_lot'].apply(sqrt)\n",
    "sales['bedrooms_square'] = sales['bedrooms']*sales['bedrooms']\n",
    "\n",
    "# In the dataset, 'floors' was defined with type string, \n",
    "# so we'll convert them to float, before creating a new feature.\n",
    "sales['floors'] = sales['floors'].astype(float) \n",
    "sales['floors_square'] = sales['floors']*sales['floors']"
   ]
  },
  {
   "cell_type": "markdown",
   "metadata": {},
   "source": [
    "* Squaring bedrooms will increase the separation between not many bedrooms (e.g. 1) and lots of bedrooms (e.g. 4) since 1^2 = 1 but 4^2 = 16. Consequently this variable will mostly affect houses with many bedrooms.\n",
    "* On the other hand, taking square root of sqft_living will decrease the separation between big house and small house. The owner may not be exactly twice as happy for getting a house that is twice as big."
   ]
  },
  {
   "cell_type": "markdown",
   "metadata": {},
   "source": [
    "# Learn regression weights with L1 penalty"
   ]
  },
  {
   "cell_type": "markdown",
   "metadata": {},
   "source": [
    "Let us fit a model with all the features available, plus the features we just created above."
   ]
  },
  {
   "cell_type": "code",
   "execution_count": 4,
   "metadata": {},
   "outputs": [],
   "source": [
    "all_features = ['bedrooms', 'bedrooms_square',\n",
    "                'bathrooms',\n",
    "                'sqft_living', 'sqft_living_sqrt',\n",
    "                'sqft_lot', 'sqft_lot_sqrt',\n",
    "                'floors', 'floors_square',\n",
    "                'waterfront', 'view', 'condition', 'grade',\n",
    "                'sqft_above',\n",
    "                'sqft_basement',\n",
    "                'yr_built', 'yr_renovated']"
   ]
  },
  {
   "cell_type": "markdown",
   "metadata": {},
   "source": [
    "Applying L1 penalty requires adding an extra parameter (`l1_penalty`) to the linear regression call in Turi Create. (Other tools may have separate implementations of LASSO.)  Note that it's important to set `l2_penalty=0` to ensure we don't introduce an additional L2 penalty."
   ]
  },
  {
   "cell_type": "code",
   "execution_count": 5,
   "metadata": {},
   "outputs": [],
   "source": [
    "l1_penalty = 1e10\n",
    "l2_penalty = 0\n",
    "my_output = 'price'"
   ]
  },
  {
   "cell_type": "code",
   "execution_count": 6,
   "metadata": {},
   "outputs": [],
   "source": [
    "def polynomial_regression(data,output,features,l1_penalty,l2_penalty):\n",
    "\n",
    "    model = turicreate.linear_regression.create(sales, target='price', features=features,\n",
    "                                                validation_set=None, \n",
    "                                                l2_penalty=l2_penalty, l1_penalty=l1_penalty,\n",
    "                                                verbose = False)\n",
    "    return model\n"
   ]
  },
  {
   "cell_type": "markdown",
   "metadata": {},
   "source": [
    "Find what features had non-zero weight."
   ]
  },
  {
   "cell_type": "code",
   "execution_count": 7,
   "metadata": {},
   "outputs": [],
   "source": [
    "model_all =polynomial_regression(sales,'price',all_features,l1_penalty,l2_penalty)"
   ]
  },
  {
   "cell_type": "code",
   "execution_count": 8,
   "metadata": {},
   "outputs": [],
   "source": [
    "import numpy as np"
   ]
  },
  {
   "cell_type": "code",
   "execution_count": 9,
   "metadata": {},
   "outputs": [],
   "source": [
    "def print_coefficients(model):\n",
    "    deg = len(model.coefficients['value'])-1\n",
    "    w = list(model.coefficients['value'])\n",
    "    print('Learned polynomial for degree ' + str(deg) + ':')\n",
    "    w.reverse()\n",
    "    print(np.poly1d(w))"
   ]
  },
  {
   "cell_type": "code",
   "execution_count": 10,
   "metadata": {},
   "outputs": [
    {
     "name": "stdout",
     "output_type": "stream",
     "text": [
      "Learned polynomial for degree 17:\n",
      "       14         13         5         4        3\n",
      "20.02 x  + 842.1 x  + 350.1 x + 24.42 x + 8469 x + 2.749e+05\n"
     ]
    }
   ],
   "source": [
    "print_coefficients(model_all)"
   ]
  },
  {
   "cell_type": "code",
   "execution_count": 11,
   "metadata": {},
   "outputs": [
    {
     "name": "stdout",
     "output_type": "stream",
     "text": [
      "number of nonzeros = 6\n"
     ]
    }
   ],
   "source": [
    "print ('number of nonzeros = %d' % (model_all.coefficients['value']).nnz())"
   ]
  },
  {
   "cell_type": "code",
   "execution_count": 12,
   "metadata": {},
   "outputs": [
    {
     "data": {
      "text/html": [
       "<div style=\"max-height:1000px;max-width:1500px;overflow:auto;\"><table frame=\"box\" rules=\"cols\">\n",
       "    <tr>\n",
       "        <th style=\"padding-left: 1em; padding-right: 1em; text-align: center\">name</th>\n",
       "        <th style=\"padding-left: 1em; padding-right: 1em; text-align: center\">index</th>\n",
       "        <th style=\"padding-left: 1em; padding-right: 1em; text-align: center\">value</th>\n",
       "        <th style=\"padding-left: 1em; padding-right: 1em; text-align: center\">stderr</th>\n",
       "    </tr>\n",
       "    <tr>\n",
       "        <td style=\"padding-left: 1em; padding-right: 1em; text-align: center; vertical-align: top\">(intercept)</td>\n",
       "        <td style=\"padding-left: 1em; padding-right: 1em; text-align: center; vertical-align: top\">None</td>\n",
       "        <td style=\"padding-left: 1em; padding-right: 1em; text-align: center; vertical-align: top\">274873.0556516683</td>\n",
       "        <td style=\"padding-left: 1em; padding-right: 1em; text-align: center; vertical-align: top\">None</td>\n",
       "    </tr>\n",
       "    <tr>\n",
       "        <td style=\"padding-left: 1em; padding-right: 1em; text-align: center; vertical-align: top\">bedrooms</td>\n",
       "        <td style=\"padding-left: 1em; padding-right: 1em; text-align: center; vertical-align: top\">None</td>\n",
       "        <td style=\"padding-left: 1em; padding-right: 1em; text-align: center; vertical-align: top\">0.0</td>\n",
       "        <td style=\"padding-left: 1em; padding-right: 1em; text-align: center; vertical-align: top\">None</td>\n",
       "    </tr>\n",
       "    <tr>\n",
       "        <td style=\"padding-left: 1em; padding-right: 1em; text-align: center; vertical-align: top\">bedrooms_square</td>\n",
       "        <td style=\"padding-left: 1em; padding-right: 1em; text-align: center; vertical-align: top\">None</td>\n",
       "        <td style=\"padding-left: 1em; padding-right: 1em; text-align: center; vertical-align: top\">0.0</td>\n",
       "        <td style=\"padding-left: 1em; padding-right: 1em; text-align: center; vertical-align: top\">None</td>\n",
       "    </tr>\n",
       "    <tr>\n",
       "        <td style=\"padding-left: 1em; padding-right: 1em; text-align: center; vertical-align: top\">bathrooms</td>\n",
       "        <td style=\"padding-left: 1em; padding-right: 1em; text-align: center; vertical-align: top\">None</td>\n",
       "        <td style=\"padding-left: 1em; padding-right: 1em; text-align: center; vertical-align: top\">8468.531052082517</td>\n",
       "        <td style=\"padding-left: 1em; padding-right: 1em; text-align: center; vertical-align: top\">None</td>\n",
       "    </tr>\n",
       "    <tr>\n",
       "        <td style=\"padding-left: 1em; padding-right: 1em; text-align: center; vertical-align: top\">sqft_living</td>\n",
       "        <td style=\"padding-left: 1em; padding-right: 1em; text-align: center; vertical-align: top\">None</td>\n",
       "        <td style=\"padding-left: 1em; padding-right: 1em; text-align: center; vertical-align: top\">24.420721103749127</td>\n",
       "        <td style=\"padding-left: 1em; padding-right: 1em; text-align: center; vertical-align: top\">None</td>\n",
       "    </tr>\n",
       "    <tr>\n",
       "        <td style=\"padding-left: 1em; padding-right: 1em; text-align: center; vertical-align: top\">sqft_living_sqrt</td>\n",
       "        <td style=\"padding-left: 1em; padding-right: 1em; text-align: center; vertical-align: top\">None</td>\n",
       "        <td style=\"padding-left: 1em; padding-right: 1em; text-align: center; vertical-align: top\">350.0605510046117</td>\n",
       "        <td style=\"padding-left: 1em; padding-right: 1em; text-align: center; vertical-align: top\">None</td>\n",
       "    </tr>\n",
       "    <tr>\n",
       "        <td style=\"padding-left: 1em; padding-right: 1em; text-align: center; vertical-align: top\">sqft_lot</td>\n",
       "        <td style=\"padding-left: 1em; padding-right: 1em; text-align: center; vertical-align: top\">None</td>\n",
       "        <td style=\"padding-left: 1em; padding-right: 1em; text-align: center; vertical-align: top\">0.0</td>\n",
       "        <td style=\"padding-left: 1em; padding-right: 1em; text-align: center; vertical-align: top\">None</td>\n",
       "    </tr>\n",
       "    <tr>\n",
       "        <td style=\"padding-left: 1em; padding-right: 1em; text-align: center; vertical-align: top\">sqft_lot_sqrt</td>\n",
       "        <td style=\"padding-left: 1em; padding-right: 1em; text-align: center; vertical-align: top\">None</td>\n",
       "        <td style=\"padding-left: 1em; padding-right: 1em; text-align: center; vertical-align: top\">0.0</td>\n",
       "        <td style=\"padding-left: 1em; padding-right: 1em; text-align: center; vertical-align: top\">None</td>\n",
       "    </tr>\n",
       "    <tr>\n",
       "        <td style=\"padding-left: 1em; padding-right: 1em; text-align: center; vertical-align: top\">floors</td>\n",
       "        <td style=\"padding-left: 1em; padding-right: 1em; text-align: center; vertical-align: top\">None</td>\n",
       "        <td style=\"padding-left: 1em; padding-right: 1em; text-align: center; vertical-align: top\">0.0</td>\n",
       "        <td style=\"padding-left: 1em; padding-right: 1em; text-align: center; vertical-align: top\">None</td>\n",
       "    </tr>\n",
       "    <tr>\n",
       "        <td style=\"padding-left: 1em; padding-right: 1em; text-align: center; vertical-align: top\">floors_square</td>\n",
       "        <td style=\"padding-left: 1em; padding-right: 1em; text-align: center; vertical-align: top\">None</td>\n",
       "        <td style=\"padding-left: 1em; padding-right: 1em; text-align: center; vertical-align: top\">0.0</td>\n",
       "        <td style=\"padding-left: 1em; padding-right: 1em; text-align: center; vertical-align: top\">None</td>\n",
       "    </tr>\n",
       "</table>\n",
       "[18 rows x 4 columns]<br/>Note: Only the head of the SFrame is printed.<br/>You can use print_rows(num_rows=m, num_columns=n) to print more rows and columns.\n",
       "</div>"
      ],
      "text/plain": [
       "Columns:\n",
       "\tname\tstr\n",
       "\tindex\tstr\n",
       "\tvalue\tfloat\n",
       "\tstderr\tfloat\n",
       "\n",
       "Rows: 18\n",
       "\n",
       "Data:\n",
       "+------------------+-------+--------------------+--------+\n",
       "|       name       | index |       value        | stderr |\n",
       "+------------------+-------+--------------------+--------+\n",
       "|   (intercept)    |  None | 274873.0556516683  |  None  |\n",
       "|     bedrooms     |  None |        0.0         |  None  |\n",
       "| bedrooms_square  |  None |        0.0         |  None  |\n",
       "|    bathrooms     |  None | 8468.531052082517  |  None  |\n",
       "|   sqft_living    |  None | 24.420721103749127 |  None  |\n",
       "| sqft_living_sqrt |  None | 350.0605510046117  |  None  |\n",
       "|     sqft_lot     |  None |        0.0         |  None  |\n",
       "|  sqft_lot_sqrt   |  None |        0.0         |  None  |\n",
       "|      floors      |  None |        0.0         |  None  |\n",
       "|  floors_square   |  None |        0.0         |  None  |\n",
       "+------------------+-------+--------------------+--------+\n",
       "[18 rows x 4 columns]\n",
       "Note: Only the head of the SFrame is printed.\n",
       "You can use print_rows(num_rows=m, num_columns=n) to print more rows and columns."
      ]
     },
     "execution_count": 12,
     "metadata": {},
     "output_type": "execute_result"
    }
   ],
   "source": [
    "model_all.coefficients"
   ]
  },
  {
   "cell_type": "markdown",
   "metadata": {},
   "source": [
    "Note that a majority of the weights have been set to zero. So by setting an L1 penalty that's large enough, we are performing a subset selection. \n",
    "\n",
    "***QUIZ QUESTION***:\n",
    "According to this list of weights, which of the features have been chosen? "
   ]
  },
  {
   "cell_type": "markdown",
   "metadata": {},
   "source": [
    "# Selecting an L1 penalty"
   ]
  },
  {
   "cell_type": "markdown",
   "metadata": {},
   "source": [
    "To find a good L1 penalty, we will explore multiple values using a validation set. Let us do three way split into train, validation, and test sets:\n",
    "* Split our sales data into 2 sets: training and test\n",
    "* Further split our training data into two sets: train, validation\n",
    "\n",
    "Be *very* careful that you use seed = 1 to ensure you get the same answer!"
   ]
  },
  {
   "cell_type": "code",
   "execution_count": 13,
   "metadata": {},
   "outputs": [],
   "source": [
    "(training_and_validation, testing) = sales.random_split(.9,seed=1) # initial train/test split\n",
    "(training, validation) = training_and_validation.random_split(0.5, seed=1) # split training into train and validate"
   ]
  },
  {
   "cell_type": "markdown",
   "metadata": {},
   "source": [
    "Next, we write a loop that does the following:\n",
    "* For `l1_penalty` in [10^1, 10^1.5, 10^2, 10^2.5, ..., 10^7] (to get this in Python, type `np.logspace(1, 7, num=13)`.)\n",
    "    * Fit a regression model with a given `l1_penalty` on TRAIN data. Specify `l1_penalty=l1_penalty` and `l2_penalty=0.` in the parameter list.\n",
    "    * Compute the RSS on VALIDATION data (here you will want to use `.predict()`) for that `l1_penalty`\n",
    "* Report which `l1_penalty` produced the lowest RSS on validation data.\n",
    "\n",
    "When you call `linear_regression.create()` make sure you set `validation_set = None`.\n",
    "\n",
    "Note: you can turn off the print out of `linear_regression.create()` with `verbose = False`"
   ]
  },
  {
   "cell_type": "code",
   "execution_count": 14,
   "metadata": {},
   "outputs": [
    {
     "name": "stdout",
     "output_type": "stream",
     "text": [
      "10.0 / 630973678898876.9\n",
      "31.622776601683793 / 630973679045988.0\n",
      "100.0 / 630973679511194.4\n",
      "316.22776601683796 / 630973680982305.4\n",
      "1000.0 / 630973685634376.4\n",
      "3162.2776601683795 / 630973700345587.9\n",
      "10000.0 / 630973746867257.9\n",
      "31622.776601683792 / 630973893989020.2\n",
      "100000.0 / 630974359302061.9\n",
      "316227.7660168379 / 630975831483230.4\n",
      "1000000.0 / 630980494248545.1\n",
      "3162277.6601683795 / 630995312409343.2\n",
      "10000000.0 / 631042903558233.5\n"
     ]
    }
   ],
   "source": [
    "rss_number = []\n",
    "for l1_penalty in np.logspace(1,7,num=13):\n",
    "    \n",
    "    model = polynomial_regression(training,'price',all_features,l1_penalty,0.)\n",
    "    predictions = model.predict(validation)\n",
    "    errors = predictions - validation['price']\n",
    "    RSS = (pow(errors,2)).sum()\n",
    "    rss_number.append(RSS)\n",
    "    print (l1_penalty,'/',RSS)\n",
    "    "
   ]
  },
  {
   "cell_type": "code",
   "execution_count": 15,
   "metadata": {},
   "outputs": [
    {
     "name": "stdout",
     "output_type": "stream",
     "text": [
      "630973678898876.9\n"
     ]
    }
   ],
   "source": [
    "print(min(rss_number))"
   ]
  },
  {
   "cell_type": "markdown",
   "metadata": {},
   "source": [
    "*** QUIZ QUESTION. *** What was the best value for the `l1_penalty`?"
   ]
  },
  {
   "cell_type": "code",
   "execution_count": 16,
   "metadata": {},
   "outputs": [
    {
     "name": "stdout",
     "output_type": "stream",
     "text": [
      "number of nonzeros = 18\n"
     ]
    }
   ],
   "source": [
    "model = polynomial_regression(training,'price',all_features,10.0,0.)\n",
    "print ('number of nonzeros = %d' % (model.coefficients['value']).nnz())"
   ]
  },
  {
   "cell_type": "markdown",
   "metadata": {},
   "source": [
    "\n",
    "\n",
    "***QUIZ QUESTION***\n",
    "Also, using this value of L1 penalty, how many nonzero weights do you have?"
   ]
  },
  {
   "cell_type": "code",
   "execution_count": null,
   "metadata": {},
   "outputs": [],
   "source": []
  },
  {
   "cell_type": "markdown",
   "metadata": {},
   "source": [
    "# Limit the number of nonzero weights\n",
    "\n",
    "What if we absolutely wanted to limit ourselves to, say, 7 features? This may be important if we want to derive \"a rule of thumb\" --- an interpretable model that has only a few features in them."
   ]
  },
  {
   "cell_type": "markdown",
   "metadata": {},
   "source": [
    "In this section, you are going to implement a simple, two phase procedure to achive this goal:\n",
    "1. Explore a large range of `l1_penalty` values to find a narrow region of `l1_penalty` values where models are likely to have the desired number of non-zero weights.\n",
    "2. Further explore the narrow region you found to find a good value for `l1_penalty` that achieves the desired sparsity.  Here, we will again use a validation set to choose the best value for `l1_penalty`."
   ]
  },
  {
   "cell_type": "code",
   "execution_count": 17,
   "metadata": {},
   "outputs": [],
   "source": [
    "max_nonzeros = 7"
   ]
  },
  {
   "cell_type": "markdown",
   "metadata": {},
   "source": [
    "## Exploring the larger range of values to find a narrow range with the desired sparsity\n",
    "\n",
    "Let's define a wide range of possible `l1_penalty_values`:"
   ]
  },
  {
   "cell_type": "code",
   "execution_count": 18,
   "metadata": {},
   "outputs": [],
   "source": [
    "l1_penalty_values = np.logspace(8, 10, num=20)"
   ]
  },
  {
   "cell_type": "markdown",
   "metadata": {},
   "source": [
    "Now, implement a loop that search through this space of possible `l1_penalty` values:\n",
    "\n",
    "* For `l1_penalty` in `np.logspace(8, 10, num=20)`:\n",
    "    * Fit a regression model with a given `l1_penalty` on TRAIN data. Specify `l1_penalty=l1_penalty` and `l2_penalty=0.` in the parameter list. When you call `linear_regression.create()` make sure you set `validation_set = None`\n",
    "    * Extract the weights of the model and count the number of nonzeros. Save the number of nonzeros to a list.\n",
    "        * *Hint: `model.coefficients['value']` gives you an SArray with the parameters you learned.  If you call the method `.nnz()` on it, you will find the number of non-zero parameters!* "
   ]
  },
  {
   "cell_type": "code",
   "execution_count": 19,
   "metadata": {},
   "outputs": [
    {
     "name": "stdout",
     "output_type": "stream",
     "text": [
      "number of nonzeros = 18\n",
      "100000000.0 / 631772981140101.8\n",
      "number of nonzeros = 18\n",
      "127427498.57031322 / 632067022373050.6\n",
      "number of nonzeros = 18\n",
      "162377673.91887242 / 632451760061999.1\n",
      "number of nonzeros = 18\n",
      "206913808.111479 / 632960113735221.9\n",
      "number of nonzeros = 18\n",
      "263665089.87303555 / 633672115886020.6\n",
      "number of nonzeros = 18\n",
      "335981828.6283788 / 634690663237861.5\n",
      "number of nonzeros = 18\n",
      "428133239.8719396 / 636283608127973.4\n",
      "number of nonzeros = 17\n",
      "545559478.1168514 / 638537511924832.0\n",
      "number of nonzeros = 17\n",
      "695192796.1775591 / 641861901688966.2\n",
      "number of nonzeros = 17\n",
      "885866790.4100832 / 646760503717577.9\n",
      "number of nonzeros = 17\n",
      "1128837891.6846883 / 654246389201976.4\n",
      "number of nonzeros = 17\n",
      "1438449888.2876658 / 665740014393148.2\n",
      "number of nonzeros = 16\n",
      "1832980710.8324375 / 682579276013997.0\n",
      "number of nonzeros = 16\n",
      "2335721469.0901213 / 706393768559719.4\n",
      "number of nonzeros = 16\n",
      "2976351441.6313133 / 743862938143165.9\n",
      "number of nonzeros = 15\n",
      "3792690190.7322536 / 798960997622890.9\n",
      "number of nonzeros = 13\n",
      "4832930238.571753 / 859144588898769.5\n",
      "number of nonzeros = 10\n",
      "6158482110.6602545 / 961957402734691.9\n",
      "number of nonzeros = 7\n",
      "7847599703.514623 / 1073736528863788.0\n",
      "number of nonzeros = 6\n",
      "10000000000.0 / 1205879980028371.2\n"
     ]
    }
   ],
   "source": [
    "rss_number = []\n",
    "for l1_penalty in l1_penalty_values:\n",
    "    \n",
    "    model = polynomial_regression(training,'price',all_features,l1_penalty,0.)\n",
    "    predictions = model.predict(validation)\n",
    "    errors = predictions - validation['price']\n",
    "    RSS = (pow(errors,2)).sum()\n",
    "    rss_number.append(RSS)\n",
    "    print ('number of nonzeros = %d' % (model.coefficients['value']).nnz())\n",
    "    print (l1_penalty,'/',RSS)\n",
    "    "
   ]
  },
  {
   "cell_type": "markdown",
   "metadata": {},
   "source": [
    "Out of this large range, we want to find the two ends of our desired narrow range of `l1_penalty`.  At one end, we will have `l1_penalty` values that have too few non-zeros, and at the other end, we will have an `l1_penalty` that has too many non-zeros.  \n",
    "\n",
    "More formally, find:\n",
    "* The largest `l1_penalty` that has more non-zeros than `max_nonzeros` (if we pick a penalty smaller than this value, we will definitely have too many non-zero weights)\n",
    "    * Store this value in the variable `l1_penalty_min` (we will use it later)\n",
    "* The smallest `l1_penalty` that has fewer non-zeros than `max_nonzeros` (if we pick a penalty larger than this value, we will definitely have too few non-zero weights)\n",
    "    * Store this value in the variable `l1_penalty_max` (we will use it later)\n",
    "\n",
    "\n",
    "*Hint: there are many ways to do this, e.g.:*\n",
    "* Programmatically within the loop above\n",
    "* Creating a list with the number of non-zeros for each value of `l1_penalty` and inspecting it to find the appropriate boundaries."
   ]
  },
  {
   "cell_type": "code",
   "execution_count": 20,
   "metadata": {},
   "outputs": [
    {
     "name": "stdout",
     "output_type": "stream",
     "text": [
      "The smallest l1_penalty rss =  631772981140101.8\n",
      "The largest l1_penalty rss =  1205879980028371.2\n"
     ]
    }
   ],
   "source": [
    "l1_penalty_min_rss = min(rss_number)\n",
    "l1_penalty_max_rss = max(rss_number)\n",
    "print('The smallest l1_penalty rss = ',l1_penalty_min_rss)\n",
    "print('The largest l1_penalty rss = ',l1_penalty_max_rss)"
   ]
  },
  {
   "cell_type": "code",
   "execution_count": 21,
   "metadata": {},
   "outputs": [
    {
     "name": "stdout",
     "output_type": "stream",
     "text": [
      "The smallest l1_penalty  =  100000000.0\n",
      "The largest l1_penalty  =  10000000000.0\n"
     ]
    }
   ],
   "source": [
    "smallest_l1_penalty = min(l1_penalty_values)\n",
    "largest_l1_penalty = max(l1_penalty_values)\n",
    "print('The smallest l1_penalty  = ',smallest_l1_penalty)\n",
    "print('The largest l1_penalty  = ',largest_l1_penalty)"
   ]
  },
  {
   "cell_type": "markdown",
   "metadata": {},
   "source": [
    "***QUIZ QUESTION.*** What values did you find for `l1_penalty_min` and `l1_penalty_max`, respectively? "
   ]
  },
  {
   "cell_type": "markdown",
   "metadata": {},
   "source": [
    "## Exploring the narrow range of values to find the solution with the right number of non-zeros that has lowest RSS on the validation set \n",
    "\n",
    "We will now explore the narrow region of `l1_penalty` values we found:"
   ]
  },
  {
   "cell_type": "code",
   "execution_count": 22,
   "metadata": {},
   "outputs": [],
   "source": [
    "l1_penalty_values = np.linspace(smallest_l1_penalty,largest_l1_penalty,20)"
   ]
  },
  {
   "cell_type": "markdown",
   "metadata": {},
   "source": [
    "* For `l1_penalty` in `np.linspace(l1_penalty_min,l1_penalty_max,20)`:\n",
    "    * Fit a regression model with a given `l1_penalty` on TRAIN data. Specify `l1_penalty=l1_penalty` and `l2_penalty=0.` in the parameter list. When you call `linear_regression.create()` make sure you set `validation_set = None`\n",
    "    * Measure the RSS of the learned model on the VALIDATION set\n",
    "\n",
    "Find the model that the lowest RSS on the VALIDATION set and has sparsity *equal* to `max_nonzeros`."
   ]
  },
  {
   "cell_type": "code",
   "execution_count": 23,
   "metadata": {},
   "outputs": [
    {
     "name": "stdout",
     "output_type": "stream",
     "text": [
      "number of nonzeros = 18\n",
      "100000000.0 / 631772981140101.8\n",
      "number of nonzeros = 17\n",
      "621052631.5789473 / 640112093034714.1\n",
      "number of nonzeros = 17\n",
      "1142105263.1578946 / 654691237472126.9\n",
      "number of nonzeros = 17\n",
      "1663157894.7368422 / 675475198220296.0\n",
      "number of nonzeros = 16\n",
      "2184210526.315789 / 698716234040111.5\n",
      "number of nonzeros = 16\n",
      "2705263157.894737 / 727011006569465.2\n",
      "number of nonzeros = 16\n",
      "3226315789.4736843 / 760684305549021.4\n",
      "number of nonzeros = 15\n",
      "3747368421.0526314 / 796076777906257.2\n",
      "number of nonzeros = 13\n",
      "4268421052.631579 / 825975321717767.6\n",
      "number of nonzeros = 13\n",
      "4789473684.210526 / 856090123511988.9\n",
      "number of nonzeros = 12\n",
      "5310526315.789474 / 897913419682375.8\n",
      "number of nonzeros = 11\n",
      "5831578947.368421 / 939878682517340.4\n",
      "number of nonzeros = 10\n",
      "6352631578.947369 / 975085699043191.2\n",
      "number of nonzeros = 10\n",
      "6873684210.526316 / 1013298819264039.2\n",
      "number of nonzeros = 8\n",
      "7394736842.105263 / 1047597705449170.8\n",
      "number of nonzeros = 7\n",
      "7915789473.684211 / 1077559279966657.9\n",
      "number of nonzeros = 6\n",
      "8436842105.263158 / 1106438489297283.0\n",
      "number of nonzeros = 6\n",
      "8957894736.842106 / 1131646012647307.5\n",
      "number of nonzeros = 6\n",
      "9478947368.421053 / 1165919540408734.5\n",
      "number of nonzeros = 6\n",
      "10000000000.0 / 1205879980028371.2\n"
     ]
    }
   ],
   "source": [
    "rss_number = []\n",
    "\n",
    "for l1_penalty in l1_penalty_values:    \n",
    "    model = polynomial_regression(training,'price',all_features,l1_penalty,0.)\n",
    "    predictions = model.predict(validation)\n",
    "    errors = predictions - validation['price']\n",
    "    RSS = (pow(errors,2)).sum()\n",
    "    rss_number.append(RSS)\n",
    "    print ('number of nonzeros = %d' % (model.coefficients['value']).nnz())\n",
    "    print (l1_penalty,'/',RSS)\n",
    "        \n",
    "    "
   ]
  },
  {
   "cell_type": "markdown",
   "metadata": {},
   "source": [
    "***QUIZ QUESTIONS***\n",
    "1. What value of `l1_penalty` in our narrow range has the lowest RSS on the VALIDATION set and has sparsity *equal* to `max_nonzeros`?\n",
    "2. What features in this model have non-zero coefficients?"
   ]
  },
  {
   "cell_type": "markdown",
   "metadata": {},
   "source": []
  },
  {
   "cell_type": "code",
   "execution_count": 24,
   "metadata": {},
   "outputs": [
    {
     "name": "stdout",
     "output_type": "stream",
     "text": [
      "Learned polynomial for degree 17:\n",
      "       14        13       5         4             3\n",
      "27.63 x  + 2787 x  + 659 x + 30.48 x + 1.483e+04 x + 616.4 x + 2.278e+05\n"
     ]
    }
   ],
   "source": [
    "model = polynomial_regression(training,'price',all_features,l1_penalty=7915789473.684211,l2_penalty=0.)\n",
    "print_coefficients(model)"
   ]
  },
  {
   "cell_type": "code",
   "execution_count": 25,
   "metadata": {},
   "outputs": [
    {
     "name": "stdout",
     "output_type": "stream",
     "text": [
      "{'name': '(intercept)', 'value': 227796.51558423977}\n",
      "{'name': 'bedrooms', 'value': 616.4077016179333}\n",
      "{'name': 'bedrooms_square', 'value': 0.0}\n",
      "{'name': 'bathrooms', 'value': 14826.16828351347}\n",
      "{'name': 'sqft_living', 'value': 30.483329746722088}\n",
      "{'name': 'sqft_living_sqrt', 'value': 659.0089988270271}\n",
      "{'name': 'sqft_lot', 'value': 0.0}\n",
      "{'name': 'sqft_lot_sqrt', 'value': 0.0}\n",
      "{'name': 'floors', 'value': 0.0}\n",
      "{'name': 'floors_square', 'value': 0.0}\n",
      "{'name': 'waterfront', 'value': 0.0}\n",
      "{'name': 'view', 'value': 0.0}\n",
      "{'name': 'condition', 'value': 0.0}\n",
      "{'name': 'grade', 'value': 2787.2516998587844}\n",
      "{'name': 'sqft_above', 'value': 27.629750103138903}\n",
      "{'name': 'sqft_basement', 'value': 0.0}\n",
      "{'name': 'yr_built', 'value': 0.0}\n",
      "{'name': 'yr_renovated', 'value': 0.0}\n"
     ]
    }
   ],
   "source": [
    "for i in model.coefficients['name','value']:    \n",
    "        print(i)"
   ]
  },
  {
   "cell_type": "code",
   "execution_count": 26,
   "metadata": {},
   "outputs": [
    {
     "data": {
      "text/plain": [
       "424705.48525652074"
      ]
     },
     "execution_count": 26,
     "metadata": {},
     "output_type": "execute_result"
    }
   ],
   "source": [
    "prediction = model.predict(testing)\n",
    "prediction[0]"
   ]
  },
  {
   "cell_type": "code",
   "execution_count": 27,
   "metadata": {},
   "outputs": [
    {
     "data": {
      "text/plain": [
       "{'id': 3793500160,\n",
       " 'date': '20150312T000000',\n",
       " 'price': 323000.0,\n",
       " 'bedrooms': 3,\n",
       " 'bathrooms': 2.5,\n",
       " 'sqft_living': 1890,\n",
       " 'sqft_lot': 6560,\n",
       " 'floors': 2.0,\n",
       " 'waterfront': 0,\n",
       " 'view': 0,\n",
       " 'condition': 3,\n",
       " 'grade': 7,\n",
       " 'sqft_above': 1890,\n",
       " 'sqft_basement': 0,\n",
       " 'yr_built': 2003,\n",
       " 'yr_renovated': 0,\n",
       " 'zipcode': 98038,\n",
       " 'lat': 47.3684,\n",
       " 'long': -122.031,\n",
       " 'sqft_living15': 2390,\n",
       " 'sqft_lot15': 7570,\n",
       " 'sqft_living_sqrt': 43.474130238568314,\n",
       " 'sqft_lot_sqrt': 80.99382692526635,\n",
       " 'bedrooms_square': 9,\n",
       " 'floors_square': 4.0}"
      ]
     },
     "execution_count": 27,
     "metadata": {},
     "output_type": "execute_result"
    }
   ],
   "source": [
    "testing[0]"
   ]
  },
  {
   "cell_type": "code",
   "execution_count": null,
   "metadata": {},
   "outputs": [],
   "source": []
  }
 ],
 "metadata": {
  "kernelspec": {
   "display_name": "Python 3",
   "language": "python",
   "name": "python3"
  },
  "language_info": {
   "codemirror_mode": {
    "name": "ipython",
    "version": 3
   },
   "file_extension": ".py",
   "mimetype": "text/x-python",
   "name": "python",
   "nbconvert_exporter": "python",
   "pygments_lexer": "ipython3",
   "version": "3.6.9"
  }
 },
 "nbformat": 4,
 "nbformat_minor": 1
}
